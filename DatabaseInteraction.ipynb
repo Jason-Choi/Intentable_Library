{
 "cells": [
  {
   "cell_type": "code",
   "execution_count": null,
   "metadata": {},
   "outputs": [],
   "source": [
    "%load_ext autoreload\n",
    "%autoreload 2\n",
    "from specification import Specification\n",
    "from typing import List, Dict\n",
    "import random, io, json\n",
    "from db import get_db\n",
    "from db.schema import Dataset\n",
    "import pandas as pd\n"
   ]
  },
  {
   "cell_type": "code",
   "execution_count": null,
   "metadata": {},
   "outputs": [],
   "source": [
    "# Pregenerated JSON to SQL Database\n",
    "\n",
    "with open(\"data/statista.json\", \"r\") as f:\n",
    "    idclab_dataset = json.load(f)\n",
    "    for data in idclab_dataset:\n",
    "        for db in get_db():\n",
    "            db_data = Dataset(\n",
    "                id=data[\"id\"],\n",
    "                title=data[\"title\"],\n",
    "                market=data[\"market\"],\n",
    "                topic=data[\"topic\"],\n",
    "                chart_type=data[\"chart_type\"],\n",
    "                chart_stacked=data[\"chart_stacked\"],\n",
    "                chart_transposed=data[\"chart_transposed\"],\n",
    "                column_number=data[\"column_number\"],\n",
    "                row_number=data[\"row_number\"],\n",
    "                column_type=data[\"column_type\"],\n",
    "                row_type=data[\"row_type\"],\n",
    "                data=data[\"data\"],\n",
    "                raw_caption=data[\"raw_caption\"],\n",
    "                axis_title=data[\"axis_title\"],\n",
    "            )\n",
    "            db.add(db_data)\n",
    "            db.commit()"
   ]
  },
  {
   "cell_type": "code",
   "execution_count": null,
   "metadata": {},
   "outputs": [],
   "source": [
    "# Print Dataset from SQL Database\n",
    "\n",
    "for db in get_db():\n",
    "    num: int = db.query(Dataset).filter(\n",
    "    ).count()\n",
    "    limitnum = 10\n",
    "    offsetnum = random.randint(0, num - limitnum) if num > limitnum else 0\n",
    "    queried_data: List[Dataset] = db.query(Dataset).filter(\n",
    "    ).offset(offsetnum).limit(30).all()\n",
    "\n",
    "    # queried_data: List[Dataset] = db.query(Dataset).filter(Dataset.id == 194925).all()\n",
    "    for data in queried_data:\n",
    "        spec = Specification(data)\n",
    "        spec.print_information()\n"
   ]
  }
 ],
 "metadata": {
  "interpreter": {
   "hash": "df0893f56f349688326838aaeea0de204df53a132722cbd565e54b24a8fec5f6"
  },
  "kernelspec": {
   "display_name": "Python 3.8.12 64-bit",
   "language": "python",
   "name": "python3"
  },
  "language_info": {
   "codemirror_mode": {
    "name": "ipython",
    "version": 3
   },
   "file_extension": ".py",
   "mimetype": "text/x-python",
   "name": "python",
   "nbconvert_exporter": "python",
   "pygments_lexer": "ipython3",
   "version": "3.8.12"
  },
  "orig_nbformat": 4
 },
 "nbformat": 4,
 "nbformat_minor": 2
}
