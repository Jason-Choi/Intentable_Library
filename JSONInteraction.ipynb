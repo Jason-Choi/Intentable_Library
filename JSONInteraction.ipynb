{
 "cells": [
  {
   "cell_type": "code",
   "execution_count": null,
   "metadata": {},
   "outputs": [],
   "source": [
    "import pandas as pd\n",
    "%load_ext autoreload\n",
    "%autoreload 2\n",
    "import json\n",
    "import io\n",
    "import random\n",
    "from typing import List, Dict\n",
    "from spec import Specification"
   ]
  },
  {
   "cell_type": "code",
   "execution_count": null,
   "metadata": {},
   "outputs": [],
   "source": [
    "idclab_dataset : List[Dict[str, str]] = []\n",
    "with open(\"data/statista.json\", \"r\") as f:\n",
    "    idclab_dataset : List[Dict[str, str]] = json.load(f)"
   ]
  },
  {
   "cell_type": "code",
   "execution_count": null,
   "metadata": {},
   "outputs": [],
   "source": [
    "data =None\n",
    "title = \"\"\"\n",
    "Distribution of the last time individuals visited the dentist in Scotland in 2017, by gender\n",
    "\"\"\".replace(\"\\n\", \"\").replace(\"\\t\", \"\")\n",
    "for d in idclab_dataset:\n",
    "    if d['title'] == title:\n",
    "        data = Specification(d)\n",
    "data.print_information()\n"
   ]
  },
  {
   "cell_type": "code",
   "execution_count": null,
   "metadata": {},
   "outputs": [],
   "source": [
    "rnd = random.choice(idclab_dataset)\n",
    "data = Specification(rnd)\n",
    "data.print_information()"
   ]
  }
 ],
 "metadata": {
  "interpreter": {
   "hash": "df0893f56f349688326838aaeea0de204df53a132722cbd565e54b24a8fec5f6"
  },
  "kernelspec": {
   "display_name": "Python 3.8.12 64-bit",
   "language": "python",
   "name": "python3"
  },
  "language_info": {
   "codemirror_mode": {
    "name": "ipython",
    "version": 3
   },
   "file_extension": ".py",
   "mimetype": "text/x-python",
   "name": "python",
   "nbconvert_exporter": "python",
   "pygments_lexer": "ipython3",
   "version": "3.8.12"
  },
  "orig_nbformat": 4
 },
 "nbformat": 4,
 "nbformat_minor": 2
}
