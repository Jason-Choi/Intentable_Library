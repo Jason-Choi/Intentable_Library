{
 "cells": [
  {
   "cell_type": "code",
   "execution_count": 2,
   "metadata": {},
   "outputs": [],
   "source": [
    "import pandas as pd\n",
    "%load_ext autoreload\n",
    "%autoreload 2\n",
    "import json\n",
    "import io\n",
    "import random\n",
    "from typing import List, Dict\n",
    "from spec import Specification"
   ]
  },
  {
   "cell_type": "code",
   "execution_count": 3,
   "metadata": {},
   "outputs": [],
   "source": [
    "idclab_dataset : List[Dict[str, str]] = []\n",
    "with open(\"data/statista.json\", \"r\") as f:\n",
    "    idclab_dataset : List[Dict[str, str]] = json.load(f)"
   ]
  },
  {
   "cell_type": "code",
   "execution_count": 28,
   "metadata": {},
   "outputs": [
    {
     "name": "stdout",
     "output_type": "stream",
     "text": [
      "16.9\n",
      "10.2\n",
      "4.0\n",
      "2.7\n",
      "19.3\n",
      "12.0\n",
      "4.4\n",
      "2.9\n",
      "19.3\n",
      "12.2\n",
      "4.6\n",
      "2.5\n",
      "10.2\n",
      "7.9\n",
      "1.2\n",
      "1.2\n",
      "16.9\n",
      "19.3\n",
      "19.3\n",
      "10.2\n",
      "10.2\n",
      "12.0\n",
      "12.2\n",
      "7.9\n",
      "4.0\n",
      "4.4\n",
      "4.6\n",
      "1.2\n",
      "2.7\n",
      "2.9\n",
      "2.5\n",
      "1.2\n",
      "\n"
     ]
    },
    {
     "data": {
      "text/html": [
       "<a href=\"https://www.statista.com/statistics/1192137\">Statista Link</a>"
      ],
      "text/plain": [
       "<IPython.core.display.HTML object>"
      ]
     },
     "metadata": {},
     "output_type": "display_data"
    },
    {
     "name": "stdout",
     "output_type": "stream",
     "text": [
      "title:  Percentage of adults in the United States who experienced symptoms of depression in the past two weeks as of 2019, by ethnicity and severity\n",
      "unit:  Percentage of adults\n",
      "chart_type:  grouped_bar\n",
      "As of 2019, around 17 percent of Hispanic adults in the United States reported having depression symptoms in the past two weeks, compared to around 10 percent of non-Hispanic Asians adults. This statistic illustrates the percent of adults in the United States who experienced symptoms of depression in the past two weeks as of 2019, by ethnicity and severity.\n",
      "{\"chart_type\": \"grouped_bar\", \"title\": \"Percentage of adults in the United States who experienced symptoms of depression in the past two weeks as of 2019, by ethnicity and severity\", \"unit\": \"Percentage of adults\", \"datas\": [[\"hispanic\", \"any severity\", 16.9], [\"hispanic\", \"mild\", 19.3], [\"hispanic\", \"moderate\", 19.3], [\"hispanic\", \"severe\", 10.2], [\"non-hispanic white\", \"any severity\", 10.2], [\"non-hispanic white\", \"mild\", 12.0], [\"non-hispanic white\", \"moderate\", 12.2], [\"non-hispanic white\", \"severe\", 7.9], [\"non-hispanic black\", \"any severity\", 4.0], [\"non-hispanic black\", \"mild\", 4.4], [\"non-hispanic black\", \"moderate\", 4.6], [\"non-hispanic black\", \"severe\", 1.2], [\"non-hispanic asian\", \"any severity\", 2.7], [\"non-hispanic asian\", \"mild\", 2.9], [\"non-hispanic asian\", \"moderate\", 2.5], [\"non-hispanic asian\", \"severe\", 1.2]]}\n",
      "              hispanic  non-hispanic white  non-hispanic black  \\\n",
      "any severity      16.9                19.3                19.3   \n",
      "mild              10.2                12.0                12.2   \n",
      "moderate           4.0                 4.4                 4.6   \n",
      "severe             2.7                 2.9                 2.5   \n",
      "\n",
      "              non-hispanic asian  \n",
      "any severity                10.2  \n",
      "mild                         7.9  \n",
      "moderate                     1.2  \n",
      "severe                       1.2  \n"
     ]
    }
   ],
   "source": [
    "title = '''\n",
    "Percentage of adults in the United States who experienced symptoms of depression in the past two weeks as of 2019, by ethnicity and severity\n",
    "'''.replace(\"\\n\", \"\")\n",
    "\n",
    "for d in idclab_dataset:\n",
    "    if d['title'] == title:\n",
    "        d = Specification(d)\n",
    "        d.print_information()\n",
    "\n"
   ]
  },
  {
   "cell_type": "code",
   "execution_count": 37,
   "metadata": {},
   "outputs": [
    {
     "name": "stdout",
     "output_type": "stream",
     "text": [
      "182659\n",
      "102527\n",
      "105574\n",
      "1117144\n",
      "182659\n",
      "102527\n",
      "105574\n",
      "1117144\n",
      "{\"chart_type\": \"bar\", \"title\": \"Number of homeless students in the United States for school year 2017-18, by primary nighttime residence\", \"unit\": \"Number of homeless students\", \"datas\": [[\"shelters, transitional housing, awaiting foster care\", 182659], [\"unsheltered\", 102527], [\"hotels/motels\", 105574], [\"doubled-up\", 1117144]]}\n"
     ]
    }
   ],
   "source": [
    "rnd = random.choice(idclab_dataset)\n",
    "data = Specification(rnd)\n",
    "print(data.e2erecipe.get())"
   ]
  }
 ],
 "metadata": {
  "interpreter": {
   "hash": "df0893f56f349688326838aaeea0de204df53a132722cbd565e54b24a8fec5f6"
  },
  "kernelspec": {
   "display_name": "Python 3.8.12 64-bit",
   "language": "python",
   "name": "python3"
  },
  "language_info": {
   "codemirror_mode": {
    "name": "ipython",
    "version": 3
   },
   "file_extension": ".py",
   "mimetype": "text/x-python",
   "name": "python",
   "nbconvert_exporter": "python",
   "pygments_lexer": "ipython3",
   "version": "3.8.12"
  },
  "orig_nbformat": 4
 },
 "nbformat": 4,
 "nbformat_minor": 2
}
