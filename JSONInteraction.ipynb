{
 "cells": [
  {
   "cell_type": "code",
   "execution_count": 1,
   "metadata": {},
   "outputs": [],
   "source": [
    "import pandas as pd\n",
    "%load_ext autoreload\n",
    "%autoreload 2\n",
    "import json\n",
    "import io\n",
    "import random\n",
    "from typing import List, Dict\n",
    "from specification import Specification\n"
   ]
  },
  {
   "cell_type": "code",
   "execution_count": 2,
   "metadata": {},
   "outputs": [],
   "source": [
    "idclab_dataset : List[Dict[str, str]] = []\n",
    "with open(\"data/statista.json\", \"r\") as f:\n",
    "    idclab_dataset : List[Dict[str, str]] = json.load(f)"
   ]
  },
  {
   "cell_type": "code",
   "execution_count": 5,
   "metadata": {},
   "outputs": [
    {
     "name": "stdout",
     "output_type": "stream",
     "text": [
      "\n"
     ]
    },
    {
     "data": {
      "text/html": [
       "<a href=\"https://www.statista.com/statistics/1080569\">Statista Link</a>"
      ],
      "text/plain": [
       "<IPython.core.display.HTML object>"
      ]
     },
     "metadata": {},
     "output_type": "display_data"
    },
    {
     "name": "stdout",
     "output_type": "stream",
     "text": [
      "id:  1080569\n",
      "title:  Gross value output of brinjals in India from financial year 2012 to 2019\n",
      "market:  Agriculture\n",
      "topic:  Farming\n",
      "\n",
      "axis_title:  Value in billion Indian rupees\n",
      "chart_type:  <simplebar>\n",
      "\n",
      "            \n",
      "fy 2012  164\n",
      "fy 2013  173\n",
      "fy 2014  177\n",
      "fy 2015  166\n",
      "fy 2016  165\n",
      "fy 2017  166\n",
      "fy 2018  169\n",
      "fy 2019  167\n",
      "{'<entitymostrecent> <0>': 167, '<namemostrecent>': 'fy 2019', '<entitymostpast> <0>': 164, '<namemostpast>': 'fy 2012', '<namemax> <0>': 'fy 2014', '<namemin> <0>': 'fy 2012', '<max> <0>': 177, '<min> <0>': 164, '<sum> <0>': 1347}\n",
      "\n",
      "RAW\n",
      "brinjals contributed about 167 billion indian rupees in the indian economy in fiscal year 2019. this value was the only slightly lower than the gross value of output recorded in the previous year. potatoes made up the largest share of gvo within vegetable production in the south asian country, followed by tomatoes.\n",
      "\n",
      "\n",
      "0\n",
      "\n",
      "SOURCE\n",
      "<is_overall>overall</is_overall><chart_type>bar</chart_type><title>gross value output of brinjals in india from financial year 2012 to 2019</title><value_info>value in billion indian rupees</value_info><selecttion><name> row : entitymostrecent, column : 0 </name><name> row : namemostrecent </name></selecttion>\n",
      "\n",
      "TARGET\n",
      "brinjals contributed about <name> row : entitymostrecent, column : 0 </name> in the indian economy in <name> row : namemostrecent </name>. this value was the only slightly lower than the gross value of output recorded in the previous year.\n",
      "\n",
      "1\n",
      "\n",
      "SOURCE\n",
      "<is_overall>non overall</is_overall><chart_type>bar</chart_type><title>gross value output of brinjals in india from financial year 2012 to 2019</title><value_info>value in billion indian rupees</value_info><selecttion></selecttion>\n",
      "\n",
      "TARGET\n",
      "potatoes made up the largest share of gvo within vegetable production in the south asian country, followed by tomatoes.\n",
      "\n"
     ]
    }
   ],
   "source": [
    "data = random.choice(idclab_dataset)\n",
    "spec = Specification(data)\n",
    "spec.print_information()\n"
   ]
  }
 ],
 "metadata": {
  "interpreter": {
   "hash": "df0893f56f349688326838aaeea0de204df53a132722cbd565e54b24a8fec5f6"
  },
  "kernelspec": {
   "display_name": "Python 3.8.12 64-bit",
   "language": "python",
   "name": "python3"
  },
  "language_info": {
   "codemirror_mode": {
    "name": "ipython",
    "version": 3
   },
   "file_extension": ".py",
   "mimetype": "text/x-python",
   "name": "python",
   "nbconvert_exporter": "python",
   "pygments_lexer": "ipython3",
   "version": "3.8.12"
  },
  "orig_nbformat": 4
 },
 "nbformat": 4,
 "nbformat_minor": 2
}
