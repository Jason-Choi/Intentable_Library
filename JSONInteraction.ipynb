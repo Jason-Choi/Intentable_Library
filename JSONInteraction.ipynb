{
 "cells": [
  {
   "cell_type": "code",
   "execution_count": null,
   "metadata": {},
   "outputs": [],
   "source": [
    "import pandas as pd\n",
    "%load_ext autoreload\n",
    "%autoreload 2\n",
    "import json\n",
    "import io\n",
    "import random\n",
    "from typing import List, Dict\n",
    "from spec import Specification"
   ]
  },
  {
   "cell_type": "code",
   "execution_count": null,
   "metadata": {},
   "outputs": [],
   "source": [
    "idclab_dataset : List[Dict[str, str]] = []\n",
    "with open(\"data/statista.json\", \"r\") as f:\n",
    "    idclab_dataset : List[Dict[str, str]] = json.load(f)"
   ]
  },
  {
   "cell_type": "code",
   "execution_count": null,
   "metadata": {},
   "outputs": [],
   "source": [
    "title = '''\n",
    "Percentage of adults in the United States who experienced symptoms of depression in the past two weeks as of 2019, by ethnicity and severity\n",
    "'''.replace(\"\\n\", \"\")\n",
    "\n",
    "for d in idclab_dataset:\n",
    "    if d['title'] == title:\n",
    "        d = Specification(d)\n",
    "        d.print_information()\n",
    "\n"
   ]
  },
  {
   "cell_type": "code",
   "execution_count": 110,
   "metadata": {},
   "outputs": [
    {
     "name": "stdout",
     "output_type": "stream",
     "text": [
      "In 2020, the labor productivity in the manufacturing industry in Manitoba was 48.9 chained 2012 Canadian dollars added to the GDP per hour worked.\n",
      "diff: False trend: False compare: False period: False\n",
      "\n",
      "targets: [Target(value=48.9, key='manufacturing ', series='value', feature=[])] \n",
      "\n"
     ]
    },
    {
     "data": {
      "text/html": [
       "<a href=\"https://www.statista.com/statistics/590267\">Statista Link</a>"
      ],
      "text/plain": [
       "<IPython.core.display.HTML object>"
      ]
     },
     "metadata": {},
     "output_type": "display_data"
    },
    {
     "name": "stdout",
     "output_type": "stream",
     "text": [
      "title:  Labor productivity in Manitoba in 2020, by industry\n",
      "unit:  Real GDP per hour worked in chained 2012 Canadian dollars\n",
      "chart_type:  bar\n",
      "This bar chart shows the labor productivity in Manitoba, Canada in 2020, by industry. In 2020, the labor productivity in the manufacturing industry in Manitoba was 48.9 chained 2012 Canadian dollars added to the GDP per hour worked.\n",
      "{\n",
      "    \"caption\": \"This bar chart shows the labor productivity in Manitoba, Canada in 2020, by industry.\",\n",
      "    \"chart_type\": \"bar\",\n",
      "    \"title\": \"Labor productivity\\u00a0in Manitoba in 2020, by industry\",\n",
      "    \"unit\": \"Real GDP per hour worked in chained 2012 Canadian dollars\",\n",
      "    \"intents\": [\n",
      "        {\n",
      "            \"action\": \"overview\"\n",
      "        }\n",
      "    ]\n",
      "}\n",
      "{\n",
      "    \"caption\": \"In 2020, the labor productivity in the manufacturing industry in Manitoba was 48.9 chained 2012 Canadian dollars added to the GDP per hour worked.\",\n",
      "    \"chart_type\": \"bar\",\n",
      "    \"title\": \"Labor productivity\\u00a0in Manitoba in 2020, by industry\",\n",
      "    \"unit\": \"Real GDP per hour worked in chained 2012 Canadian dollars\",\n",
      "    \"intents\": [\n",
      "        {\n",
      "            \"action\": \"describe\",\n",
      "            \"targets\": [\n",
      "                {\n",
      "                    \"value\": 48.9,\n",
      "                    \"key\": \"manufacturing \"\n",
      "                }\n",
      "            ]\n",
      "        }\n",
      "    ]\n",
      "}\n",
      "{\n",
      "    \"caption\": \"This bar chart shows the labor productivity in Manitoba, Canada in 2020, by industry. In 2020, the labor productivity in the manufacturing industry in Manitoba was 48.9 chained 2012 Canadian dollars added to the GDP per hour worked.\",\n",
      "    \"chart_type\": \"bar\",\n",
      "    \"title\": \"Labor productivity\\u00a0in Manitoba in 2020, by industry\",\n",
      "    \"unit\": \"Real GDP per hour worked in chained 2012 Canadian dollars\",\n",
      "    \"intents\": [\n",
      "        {\n",
      "            \"action\": \"overview\"\n",
      "        },\n",
      "        {\n",
      "            \"action\": \"describe\",\n",
      "            \"targets\": [\n",
      "                {\n",
      "                    \"value\": 48.9,\n",
      "                    \"key\": \"manufacturing \"\n",
      "                }\n",
      "            ]\n",
      "        }\n",
      "    ]\n",
      "}\n",
      "                                                    value\n",
      "all industries                                       56.8\n",
      "mining and oil and gas extraction                   280.4\n",
      "utilities                                           220.0\n",
      "real estate, rental and leasing                     176.1\n",
      "non-profit institutions                             160.3\n",
      "information and communication sector                 97.5\n",
      "finance and insurance, and holding companies         86.2\n",
      "agriculture, forestry, fishing and hunting           73.6\n",
      "wholesale trade                                      67.2\n",
      "transportation and warehousing                       55.1\n",
      "manufacturing                                        48.9\n",
      "professional, scientific and technical services      47.7\n",
      "construction                                         45.2\n",
      "government sector                                    43.3\n",
      "health care and social assistance                    41.7\n",
      "retail trade                                         37.6\n",
      "administrative and support, waste management an...   27.4\n",
      "educational services                                 25.8\n",
      "arts, entertainment and recreation                   25.7\n",
      "other private services                               24.5\n",
      "accommodation and food services                      19.6\n"
     ]
    }
   ],
   "source": [
    "rnd = random.choice(idclab_dataset)\n",
    "data = Specification(rnd)\n",
    "data.print_information()"
   ]
  }
 ],
 "metadata": {
  "interpreter": {
   "hash": "df0893f56f349688326838aaeea0de204df53a132722cbd565e54b24a8fec5f6"
  },
  "kernelspec": {
   "display_name": "Python 3.8.12 64-bit",
   "language": "python",
   "name": "python3"
  },
  "language_info": {
   "codemirror_mode": {
    "name": "ipython",
    "version": 3
   },
   "file_extension": ".py",
   "mimetype": "text/x-python",
   "name": "python",
   "nbconvert_exporter": "python",
   "pygments_lexer": "ipython3",
   "version": "3.8.12"
  },
  "orig_nbformat": 4
 },
 "nbformat": 4,
 "nbformat_minor": 2
}
