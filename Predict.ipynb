{
 "cells": [
  {
   "cell_type": "code",
   "execution_count": 3,
   "metadata": {},
   "outputs": [
    {
     "name": "stdout",
     "output_type": "stream",
     "text": [
      "The autoreload extension is already loaded. To reload it, use:\n",
      "  %reload_ext autoreload\n",
      "                                              recipe  \\\n",
      "0  {\"chart_type\": \"bar\", \"title\": \"Per capita ava...   \n",
      "1  {\"chart_type\": \"bar\", \"title\": \"Per capita ava...   \n",
      "2  {\"chart_type\": \"bar\", \"title\": \"Per capita ava...   \n",
      "3  {\"chart_type\": \"bar\", \"title\": \"Annual sales v...   \n",
      "4  {\"chart_type\": \"bar\", \"title\": \"Annual sales v...   \n",
      "\n",
      "                                               table row_type  \\\n",
      "0  ,value\\nfy 2012,1233.0\\nfy 2013,1549.0\\nfy 201...     DATE   \n",
      "1  ,value\\nfy 2012,1233.0\\nfy 2013,1549.0\\nfy 201...     DATE   \n",
      "2  ,value\\nfy 2012,1233.0\\nfy 2013,1549.0\\nfy 201...     DATE   \n",
      "3  ,value\\n2005,281450\\n2006,292110\\n2007,303621\\...     DATE   \n",
      "4  ,value\\n2005,281450\\n2006,292110\\n2007,303621\\...     DATE   \n",
      "\n",
      "                                             caption  \n",
      "0  In fiscal year 2021, the per capita availabili...  \n",
      "1  There was a constant increase in the value sin...  \n",
      "2  In fiscal year 2021, the per capita availabili...  \n",
      "3  The total value of retail sales, including fue...  \n",
      "4  This marked an increase of about 17 million Br...  \n"
     ]
    }
   ],
   "source": [
    "%load_ext autoreload\n",
    "%autoreload 2\n",
    "\n",
    "import pandas as pd\n",
    "from simplet5 import SimpleT5\n",
    "df = pd.read_csv(\"data5/statista_test.csv\")\n",
    "print(df.head())\n",
    "\n",
    "model = SimpleT5()\n",
    "modelname = \"simplet5-epoch-1-train-loss-0.8822-val-loss-0.6303\"\n",
    "model.load_model(\"t5\", f\"outputs/{modelname}\", use_gpu=True)\n",
    "\n"
   ]
  },
  {
   "cell_type": "code",
   "execution_count": 11,
   "metadata": {},
   "outputs": [
    {
     "name": "stdout",
     "output_type": "stream",
     "text": [
      "\n",
      "TABLE\n",
      "      value\n",
      "2011   2.55\n",
      "2012   3.55\n",
      "2013   4.02\n",
      "\n",
      "RECIPE\n",
      "{\n",
      "    \"chart_type\": \"bar\",\n",
      "    \"title\": \"PetSmart diluted earnings per share from 2011 to 2013\",\n",
      "    \"unit\": \"Diluted earnings per share in U.S. dollars\",\n",
      "    \"intents\": [\n",
      "        {\n",
      "            \"action\": \"describe\",\n",
      "            \"targets\": [\n",
      "                {\n",
      "                    \"value\": 4.02,\n",
      "                    \"key\": \"2013\",\n",
      "                    \"feature\": [\n",
      "                        \"recent\",\n",
      "                        \"max\"\n",
      "                    ]\n",
      "                }\n",
      "            ]\n",
      "        },\n",
      "        null\n",
      "    ]\n",
      "}\n",
      "\n",
      "\n",
      "PREDICTED CAPTION\n",
      "\n",
      "In 2013, PetSmart's diluted earnings per share amounted to 4.02 U.S. dollars. PetSmart is one of the leading pet food retailers in the United States.\n",
      "\n",
      "\n",
      "GOLDEN CAPTION\n",
      "\n",
      "In 2013, the diluted earnings  per share were 4.02 U.S. dollars. PetSmart is a specialty pet retailer operating in the U.S., Canada, and Puerto Rico.\n"
     ]
    }
   ],
   "source": [
    "import json\n",
    "import io\n",
    "\n",
    "for i in range(1):\n",
    "    choice = df.sample(n=1)\n",
    "    recipe = choice[\"recipe\"].values[0].replace(\", null\",\"\")\n",
    "    caption = choice[\"caption\"].values[0]\n",
    "    table = choice[\"table\"].values[0]\n",
    "    predicted_sentence = model.predict(\n",
    "        source_text=f\"{recipe}\",\n",
    "        num_beams=10\n",
    "    )[0]\n",
    "    print()\n",
    "    print(\"TABLE\")\n",
    "    print(pd.read_csv(io.StringIO(table), sep=\",\", index_col=0, header=0))\n",
    "    print()\n",
    "    print(\"RECIPE\")\n",
    "    print(json.dumps(json.loads(recipe), indent=4))\n",
    "    print()\n",
    "    print()\n",
    "    print(\"PREDICTED CAPTION\")\n",
    "    print()\n",
    "    print(predicted_sentence)\n",
    "    print()\n",
    "    print()\n",
    "    print(\"GOLDEN CAPTION\")\n",
    "    print()\n",
    "    print(caption)\n"
   ]
  }
 ],
 "metadata": {
  "interpreter": {
   "hash": "df0893f56f349688326838aaeea0de204df53a132722cbd565e54b24a8fec5f6"
  },
  "kernelspec": {
   "display_name": "Python 3.8.12 64-bit",
   "language": "python",
   "name": "python3"
  },
  "language_info": {
   "codemirror_mode": {
    "name": "ipython",
    "version": 3
   },
   "file_extension": ".py",
   "mimetype": "text/x-python",
   "name": "python",
   "nbconvert_exporter": "python",
   "pygments_lexer": "ipython3",
   "version": "3.8.12"
  },
  "orig_nbformat": 4
 },
 "nbformat": 4,
 "nbformat_minor": 2
}
