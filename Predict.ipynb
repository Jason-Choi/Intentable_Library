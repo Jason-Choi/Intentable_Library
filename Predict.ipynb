{
 "cells": [
  {
   "cell_type": "code",
   "execution_count": 40,
   "metadata": {},
   "outputs": [
    {
     "name": "stdout",
     "output_type": "stream",
     "text": [
      "The autoreload extension is already loaded. To reload it, use:\n",
      "  %reload_ext autoreload\n"
     ]
    }
   ],
   "source": [
    "%load_ext autoreload\n",
    "%autoreload 2\n",
    "from random import randint\n",
    "from simplet5 import SimpleT5\n",
    "import pandas as pd\n",
    "import re \n",
    "\n",
    "df = pd.read_csv(\"./data/statista_test.csv\")\n",
    "df_input = pd.DataFrame({\n",
    "    \"source_text\": df[\"source_sequence\"],\n",
    "    \"target_text\": df[\"target_sequence\"]\n",
    "})\n",
    "\n",
    "model = SimpleT5()\n",
    "modelname = \"simplet5-epoch-28-train-loss-0.6741-val-loss-0.7037\"\n",
    "model.load_model(\"t5\", f\"outputs/{modelname}\", use_gpu=False)\n"
   ]
  },
  {
   "cell_type": "code",
   "execution_count": null,
   "metadata": {},
   "outputs": [],
   "source": [
    "source_pretty = \"\"\"\n",
    "<is_overall>overall</is_overall>\n",
    "<chart_type>line</chart_type>\n",
    "<title>consumer price index (cpi) of housing and utilities in south africa from march 2019 to march 2020</title>\n",
    "<value_info>consumer price index (dec 2016 = 100)</value_info>\n",
    "<selecttion>\n",
    "    <name>row : 0</name>\n",
    "    <entity>row : 0, column : 0</entity>\n",
    "    <name>row : 1</name>\n",
    "    <entity>row : 1, column : 0</entity>\n",
    "</selecttion>\n",
    "\"\"\"\n",
    "source = source_pretty.replace(\"\\n\", \"\").replace(\"\\t\", \"\")\n",
    "predict = model.predict(\n",
    "    source,\n",
    "    num_beams=10,\n",
    "    num_return_sequences=3,\n",
    ")\n",
    "print(source_pretty)\n",
    "print()\n",
    "for p in predict:\n",
    "    print(p)\n",
    "    print()\n",
    "    print()"
   ]
  },
  {
   "cell_type": "code",
   "execution_count": null,
   "metadata": {},
   "outputs": [],
   "source": [
    "\n",
    "start = randint(0, len(df_input) - 1)\n",
    "for num in range(start, start+10):\n",
    "    print()\n",
    "    print(num)\n",
    "    print()\n",
    "    print(\"SOURCE SEQUENCE\")\n",
    "    print(df_input[\"source_text\"].tolist()[num])\n",
    "    print()\n",
    "    print(\"PREDICTION\")\n",
    "    predicted_sentence = model.predict(\n",
    "        source_text=df_input[\"source_text\"].tolist()[num],\n",
    "        num_beams=10,\n",
    "    )[0]\n",
    "    print(\n",
    "        predicted_sentence\n",
    "    )\n",
    "    print()\n",
    "    print(\"TARGET SEQUENCE\")\n",
    "    target_sequence = df_input[\"target_text\"].tolist()[num]\n",
    "    print(\n",
    "        target_sequence\n",
    "    )\n"
   ]
  }
 ],
 "metadata": {
  "interpreter": {
   "hash": "df0893f56f349688326838aaeea0de204df53a132722cbd565e54b24a8fec5f6"
  },
  "kernelspec": {
   "display_name": "Python 3.8.12 64-bit",
   "language": "python",
   "name": "python3"
  },
  "language_info": {
   "codemirror_mode": {
    "name": "ipython",
    "version": 3
   },
   "file_extension": ".py",
   "mimetype": "text/x-python",
   "name": "python",
   "nbconvert_exporter": "python",
   "pygments_lexer": "ipython3",
   "version": "3.8.12"
  },
  "orig_nbformat": 4
 },
 "nbformat": 4,
 "nbformat_minor": 2
}
