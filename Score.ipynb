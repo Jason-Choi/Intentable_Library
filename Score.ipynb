{
 "cells": [
  {
   "cell_type": "code",
   "execution_count": 1,
   "metadata": {},
   "outputs": [
    {
     "name": "stderr",
     "output_type": "stream",
     "text": [
      "Global seed set to 42\n"
     ]
    }
   ],
   "source": [
    "%load_ext autoreload\n",
    "%autoreload 2\n",
    "from simplet5 import SimpleT5\n",
    "import pandas as pd\n",
    "from sklearn.metrics import accuracy_score"
   ]
  },
  {
   "cell_type": "code",
   "execution_count": 2,
   "metadata": {},
   "outputs": [
    {
     "name": "stderr",
     "output_type": "stream",
     "text": [
      "Token indices sequence length is longer than the specified maximum sequence length for this model (595 > 512). Running this sequence through the model will result in indexing errors\n"
     ]
    }
   ],
   "source": [
    "import pandas as pd \n",
    "from transformers import T5Tokenizer\n",
    "tokenizer = T5Tokenizer.from_pretrained(\"google/t5-v1_1-base\")\n",
    "all_set = pd.read_csv(\"./data7/statista_train.csv\", header=0)\n",
    "all_set['token_len_recipe'] = all_set['recipe'].apply(lambda x: len(tokenizer(x)[\"input_ids\"]))\n",
    "all_set['token_len_caption'] = all_set['caption'].apply(lambda x: len(tokenizer(x)[\"input_ids\"]))\n"
   ]
  },
  {
   "cell_type": "code",
   "execution_count": 5,
   "metadata": {},
   "outputs": [
    {
     "data": {
      "image/png": "[encoded data removed]",
      "text/plain": [
       "<Figure size 432x288 with 1 Axes>"
      ]
     },
     "metadata": {
      "needs_background": "light"
     },
     "output_type": "display_data"
    },
    {
     "data": {
      "image/png": "[encoded data removed]",
      "text/plain": [
       "<Figure size 432x288 with 1 Axes>"
      ]
     },
     "metadata": {
      "needs_background": "light"
     },
     "output_type": "display_data"
    },
    {
     "name": "stdout",
     "output_type": "stream",
     "text": [
      "129.82401088714448\n",
      "36.7499230799574\n",
      "994\n",
      "284\n",
      "51\n",
      "3\n"
     ]
    }
   ],
   "source": [
    "import matplotlib.pyplot as plt\n",
    "plt.hist(all_set[all_set.token_len_recipe < 1000]['token_len_recipe'], bins=100)\n",
    "plt.show()\n",
    "plt.hist(all_set[all_set.token_len_caption < 1000]['token_len_caption'], bins=100)\n",
    "plt.show()\n",
    "\n",
    "#get average\n",
    "print(all_set[all_set.token_len_recipe < 1000]['token_len_recipe'].mean())\n",
    "print(all_set[all_set.token_len_recipe < 1000]['token_len_caption'].mean())\n",
    "\n",
    "#get max\n",
    "print(all_set[all_set.token_len_recipe < 1000]['token_len_recipe'].max())\n",
    "print(all_set[all_set.token_len_recipe < 1000]['token_len_caption'].max())\n",
    "\n",
    "#get min\n",
    "print(all_set[all_set.token_len_recipe < 1000]['token_len_recipe'].min())\n",
    "print(all_set[all_set.token_len_recipe < 1000]['token_len_caption'].min())\n",
    "\n"
   ]
  }
 ],
 "metadata": {
  "interpreter": {
   "hash": "df0893f56f349688326838aaeea0de204df53a132722cbd565e54b24a8fec5f6"
  },
  "kernelspec": {
   "display_name": "Python 3.8.12 64-bit",
   "language": "python",
   "name": "python3"
  },
  "language_info": {
   "codemirror_mode": {
    "name": "ipython",
    "version": 3
   },
   "file_extension": ".py",
   "mimetype": "text/x-python",
   "name": "python",
   "nbconvert_exporter": "python",
   "pygments_lexer": "ipython3",
   "version": "3.8.12"
  },
  "orig_nbformat": 4
 },
 "nbformat": 4,
 "nbformat_minor": 2
}
