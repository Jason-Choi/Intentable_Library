{
 "cells": [
  {
   "cell_type": "code",
   "execution_count": 14,
   "metadata": {},
   "outputs": [
    {
     "name": "stderr",
     "output_type": "stream",
     "text": [
      "Global seed set to 42\n"
     ]
    },
    {
     "name": "stdout",
     "output_type": "stream",
     "text": [
      "The autoreload extension is already loaded. To reload it, use:\n",
      "  %reload_ext autoreload\n"
     ]
    }
   ],
   "source": [
    "%load_ext autoreload\n",
    "%autoreload 2\n",
    "from simplet5 import SimpleT5\n",
    "import pandas as pd\n",
    "from sklearn.metrics import accuracy_score"
   ]
  },
  {
   "cell_type": "code",
   "execution_count": 15,
   "metadata": {},
   "outputs": [],
   "source": [
    "model = SimpleT5()\n",
    "modelname = \"simplet5-epoch-16-train-loss-0.6413-val-loss-0.6287\"\n",
    "model.load_model(\"t5\", f\"outputs/{modelname}\", use_gpu=True)\n"
   ]
  },
  {
   "cell_type": "code",
   "execution_count": 16,
   "metadata": {},
   "outputs": [
    {
     "name": "stdout",
     "output_type": "stream",
     "text": [
      "57692\n",
      "<chart_type>bar</chart_type><title>Average output price of eggs in the United Kingdom (UK) from 1994 to 2020</title><value_information>Price index</value_information><selection><selection_item>feature=max, row=2013, column=value, value=110.3</selection_item></selection>\n",
      "\n",
      "False\n",
      "\n",
      "False\n"
     ]
    }
   ],
   "source": [
    "test_set = pd.read_csv(\"./data/statista_test.csv\", header=0)\n",
    "print(len(test_set))\n",
    "test_set = test_set.sample(7232)\n",
    "\n",
    "sample = test_set.sample(n=1).iloc[0]\n",
    "text = sample['source_sequence']\n",
    "automatic = sample['automatic']\n",
    "print(text)\n",
    "print()\n",
    "print(automatic)\n",
    "print()\n",
    "tensor = model.score(\"Score: \" + text)[0]\n",
    "print(\"True\" if tensor[0] > tensor[1] else \"False\")"
   ]
  },
  {
   "cell_type": "code",
   "execution_count": 12,
   "metadata": {},
   "outputs": [
    {
     "name": "stdout",
     "output_type": "stream",
     "text": [
      "Score\n"
     ]
    },
    {
     "data": {
      "text/plain": [
       "0.8552267699115044"
      ]
     },
     "execution_count": 12,
     "metadata": {},
     "output_type": "execute_result"
    }
   ],
   "source": [
    "def f(text):\n",
    "    tensor = model.score(\"Score: \" + text)[0]\n",
    "    return True if tensor[0] > tensor[1] else False\n",
    "\n",
    "test_set['predict'] = test_set['source_sequence'].apply(f)\n",
    "print(\"Score\")\n",
    "accuracy_score(test_set['automatic'], test_set['predict'])"
   ]
  }
 ],
 "metadata": {
  "interpreter": {
   "hash": "df0893f56f349688326838aaeea0de204df53a132722cbd565e54b24a8fec5f6"
  },
  "kernelspec": {
   "display_name": "Python 3.8.12 64-bit",
   "language": "python",
   "name": "python3"
  },
  "language_info": {
   "codemirror_mode": {
    "name": "ipython",
    "version": 3
   },
   "file_extension": ".py",
   "mimetype": "text/x-python",
   "name": "python",
   "nbconvert_exporter": "python",
   "pygments_lexer": "ipython3",
   "version": "3.8.12"
  },
  "orig_nbformat": 4
 },
 "nbformat": 4,
 "nbformat_minor": 2
}
