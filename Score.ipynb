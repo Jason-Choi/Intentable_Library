{
 "cells": [
  {
   "cell_type": "code",
   "execution_count": 1,
   "metadata": {},
   "outputs": [
    {
     "name": "stderr",
     "output_type": "stream",
     "text": [
      "Global seed set to 42\n"
     ]
    }
   ],
   "source": [
    "%load_ext autoreload\n",
    "%autoreload 2\n",
    "from simplet5 import SimpleT5\n",
    "import pandas as pd\n",
    "from sklearn.metrics import accuracy_score"
   ]
  },
  {
   "cell_type": "code",
   "execution_count": 3,
   "metadata": {},
   "outputs": [],
   "source": [
    "import pandas as pd \n",
    "from transformers import T5Tokenizer\n",
    "tokenizer = T5Tokenizer.from_pretrained(\"google/t5-v1_1-base\")\n",
    "all_set = pd.read_csv(\"./data5/statista_train.csv\", header=0)\n"
   ]
  },
  {
   "cell_type": "code",
   "execution_count": 18,
   "metadata": {},
   "outputs": [
    {
     "name": "stdout",
     "output_type": "stream",
     "text": [
      "                                              recipe                                            caption\n",
      "0  Generate: {\"chart_type\": \"bar\", \"title\": \"Numb...  As of the survey period, the number of fiction...\n",
      "1  Generate: {\"chart_type\": \"bar\", \"title\": \"Glob...  In 2020, global GDP per capita amounted to abo...\n",
      "2  Score: {\"chart_type\": \"line\", \"title\": \"Aggrav...                                              false\n",
      "3  Generate: {\"chart_type\": \"bar\", \"title\": \"Perc...  A survey from 2019 found that 84 percent of ad...\n",
      "4  Score: {\"chart_type\": \"line\", \"title\": \"Foreca...                                              false\n"
     ]
    }
   ],
   "source": [
    "valid_set = pd.read_csv(\"./data/statista_valid.csv\", header=0)\n",
    "print(valid_set.head())"
   ]
  },
  {
   "cell_type": "code",
   "execution_count": 10,
   "metadata": {},
   "outputs": [
    {
     "data": {
      "text/plain": [
       "5"
      ]
     },
     "execution_count": 10,
     "metadata": {},
     "output_type": "execute_result"
    }
   ],
   "source": [
    "len(tokenizer(\"Hello World and Me\")[\"input_ids\"])"
   ]
  },
  {
   "cell_type": "code",
   "execution_count": 4,
   "metadata": {},
   "outputs": [
    {
     "name": "stderr",
     "output_type": "stream",
     "text": [
      "Token indices sequence length is longer than the specified maximum sequence length for this model (893 > 512). Running this sequence through the model will result in indexing errors\n"
     ]
    }
   ],
   "source": [
    "all_set['token_len_recipe'] = all_set['recipe'].apply(lambda x: len(tokenizer(x)[\"input_ids\"]))\n",
    "all_set['token_len_caption'] = all_set['caption'].apply(lambda x: len(tokenizer(x)[\"input_ids\"]))\n"
   ]
  },
  {
   "cell_type": "code",
   "execution_count": 16,
   "metadata": {},
   "outputs": [
    {
     "data": {
      "image/png": "[encoded data removed]",
      "text/plain": [
       "<Figure size 432x288 with 1 Axes>"
      ]
     },
     "metadata": {
      "needs_background": "light"
     },
     "output_type": "display_data"
    },
    {
     "data": {
      "image/png": "[encoded data removed]",
      "text/plain": [
       "<Figure size 432x288 with 1 Axes>"
      ]
     },
     "metadata": {
      "needs_background": "light"
     },
     "output_type": "display_data"
    },
    {
     "name": "stdout",
     "output_type": "stream",
     "text": [
      "157.25941783374915\n",
      "59.96241066724979\n",
      "999\n",
      "444\n",
      "51\n",
      "3\n"
     ]
    }
   ],
   "source": [
    "#draw histogram 0 to 500 with token_len_recipe \n",
    "import matplotlib.pyplot as plt\n",
    "plt.hist(all_set[all_set.token_len_recipe < 1000]['token_len_recipe'], bins=500)\n",
    "plt.show()\n",
    "plt.hist(all_set[all_set.token_len_caption < 1000]['token_len_caption'], bins=500)\n",
    "plt.show()\n",
    "\n",
    "#get average\n",
    "print(all_set[all_set.token_len_recipe < 1000]['token_len_recipe'].mean())\n",
    "print(all_set[all_set.token_len_recipe < 1000]['token_len_caption'].mean())\n",
    "\n",
    "#get max\n",
    "print(all_set[all_set.token_len_recipe < 1000]['token_len_recipe'].max())\n",
    "print(all_set[all_set.token_len_recipe < 1000]['token_len_caption'].max())\n",
    "\n",
    "#get min\n",
    "print(all_set[all_set.token_len_recipe < 1000]['token_len_recipe'].min())\n",
    "print(all_set[all_set.token_len_recipe < 1000]['token_len_caption'].min())\n",
    "\n"
   ]
  }
 ],
 "metadata": {
  "interpreter": {
   "hash": "df0893f56f349688326838aaeea0de204df53a132722cbd565e54b24a8fec5f6"
  },
  "kernelspec": {
   "display_name": "Python 3.8.12 64-bit",
   "language": "python",
   "name": "python3"
  },
  "language_info": {
   "codemirror_mode": {
    "name": "ipython",
    "version": 3
   },
   "file_extension": ".py",
   "mimetype": "text/x-python",
   "name": "python",
   "nbconvert_exporter": "python",
   "pygments_lexer": "ipython3",
   "version": "3.8.12"
  },
  "orig_nbformat": 4
 },
 "nbformat": 4,
 "nbformat_minor": 2
}
